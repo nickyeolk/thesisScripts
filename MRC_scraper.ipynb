{
 "cells": [
  {
   "cell_type": "markdown",
   "metadata": {},
   "source": [
    "Connects to http://ffw.mrcmekong.org/historical_rec.htm and scrapes river data.\n",
    "There are 21 stations, and flood season data from 2008 to 2016, and dry season data from 2013-2017. Cause the MRC won't return my email asking for data.\n",
    "Lik Khian"
   ]
  },
  {
   "cell_type": "code",
   "execution_count": 2,
   "metadata": {
    "collapsed": true
   },
   "outputs": [],
   "source": [
    "import numpy as np\n",
    "from bs4 import BeautifulSoup\n",
    "import urllib.request as ulib"
   ]
  },
  {
   "cell_type": "code",
   "execution_count": 6,
   "metadata": {
    "collapsed": false
   },
   "outputs": [],
   "source": [
    "def check(value):\n",
    "    try:\n",
    "        return float(value)\n",
    "    except:\n",
    "        return float('nan')\n",
    "\n",
    "def tablize(link):\n",
    "    r=ulib.urlopen(link).read()\n",
    "    soup = BeautifulSoup(r, \"lxml\")\n",
    "    riverLevel=soup.find_all(id='table6')\n",
    "    return riverLevel\n",
    "\n",
    "def tablize_rainfall(link):\n",
    "    r=ulib.urlopen(link).read()\n",
    "    soup = BeautifulSoup(r, \"lxml\")\n",
    "    rainfall=soup.find_all(id='table7')\n",
    "    return rainfall\n",
    "    \n",
    "def scrapeNcollateWet(fileName,link,yr):\n",
    "    #raw=tablize_rainfall(link) #for rainfall\n",
    "    raw=tablize(link) #for river height\n",
    "    jun=[]\n",
    "    jul=[]\n",
    "    aug=[]\n",
    "    sep=[]\n",
    "    octo=[]\n",
    "    for row in raw[0].find_all('tr')[2:]:\n",
    "        col = row.find_all('td')\n",
    "        day = float(col[0].string.strip())\n",
    "        if (day<=30):\n",
    "            jun.append(check(col[1].get_text()))\n",
    "            sep.append(check(col[4].get_text()))\n",
    "        if (day<=31):\n",
    "            jul.append(check(col[2].get_text()))\n",
    "            aug.append(check(col[3].get_text()))\n",
    "            octo.append(check(col[5].get_text()))\n",
    "    streamHeight=jun+jul+aug+sep+octo\n",
    "    print (fileName,yr,len(streamHeight),np.isnan(streamHeight).sum())\n",
    "    f=open('../HydrologySection/river_analytics/MRC_alldata/'+fileName+'_JJASO_'+yr+'.txt','w')\n",
    "    #f=open('../HydrologySection/river_analytics/MRC_rainfall/'+fileName+'_JJASO_'+yr+'.txt','w')\n",
    "    for ii in streamHeight:\n",
    "        f.write('%.2f\\n' %ii)\n",
    "    f.close()\n",
    "\n",
    "def scrapeNcollateDry(fileName,link,yr):\n",
    "    print(fileName,yr)\n",
    "    raw=tablize_rainfall(link) #for rainfall\n",
    "    #raw=tablize(link) #for river height\n",
    "    nov=[]\n",
    "    dec=[]\n",
    "    jan=[]\n",
    "    feb=[]\n",
    "    mar=[]\n",
    "    apr=[]\n",
    "    may=[]\n",
    "    for row in raw[0].find_all('tr')[2:]:\n",
    "        col = row.find_all('td')\n",
    "        day = float(col[0].string.strip())\n",
    "        if (day<=28):\n",
    "            feb.append(check(col[4].get_text()))\n",
    "        if (day==29 and not bool(int(yr[-4:])%4)):\n",
    "            feb.append(check(col[4].get_text()))\n",
    "        if (day<=30):\n",
    "            nov.append(check(col[1].get_text()))\n",
    "            apr.append(check(col[6].get_text()))\n",
    "        if (day<=31):\n",
    "            dec.append(check(col[2].get_text()))\n",
    "            jan.append(check(col[3].get_text()))\n",
    "            mar.append(check(col[5].get_text()))\n",
    "            may.append(check(col[7].get_text()))\n",
    "    streamHeight=nov+dec+jan+feb+mar+apr+may\n",
    "    print (fileName,yr,len(streamHeight),np.isnan(streamHeight).sum())\n",
    "    f=open('../HydrologySection/river_analytics/MRC_alldata/'+fileName+'_NDJFMAM_'+yr+'.txt','w')\n",
    "    for ii in streamHeight:\n",
    "        f.write('%.2f\\n' %ii)\n",
    "    f.close()"
   ]
  },
  {
   "cell_type": "code",
   "execution_count": 7,
   "metadata": {
    "collapsed": false,
    "scrolled": true
   },
   "outputs": [
    {
     "name": "stdout",
     "output_type": "stream",
     "text": [
      "kratie 2013_2014\n"
     ]
    },
    {
     "ename": "IndexError",
     "evalue": "list index out of range",
     "output_type": "error",
     "traceback": [
      "\u001b[1;31m---------------------------------------------------------------------------\u001b[0m",
      "\u001b[1;31mIndexError\u001b[0m                                Traceback (most recent call last)",
      "\u001b[1;32m<ipython-input-7-ebffa461be27>\u001b[0m in \u001b[0;36m<module>\u001b[1;34m()\u001b[0m\n\u001b[0;32m      9\u001b[0m \u001b[1;32mfor\u001b[0m \u001b[0myrd\u001b[0m \u001b[1;32min\u001b[0m \u001b[0myeardry\u001b[0m\u001b[1;33m:\u001b[0m\u001b[1;33m\u001b[0m\u001b[0m\n\u001b[0;32m     10\u001b[0m     \u001b[1;32mfor\u001b[0m \u001b[0mkey\u001b[0m \u001b[1;32min\u001b[0m \u001b[0msites\u001b[0m\u001b[1;33m:\u001b[0m\u001b[1;33m\u001b[0m\u001b[0m\n\u001b[1;32m---> 11\u001b[1;33m         \u001b[0mscrapeNcollateDry\u001b[0m\u001b[1;33m(\u001b[0m\u001b[0mkey\u001b[0m\u001b[1;33m,\u001b[0m\u001b[1;34m'http://ffw.mrcmekong.org/historical_data_dry/'\u001b[0m\u001b[1;33m+\u001b[0m\u001b[0myrd\u001b[0m\u001b[1;33m+\u001b[0m\u001b[1;34m'/stations_dry/historical_dry_'\u001b[0m\u001b[1;33m+\u001b[0m\u001b[0msites\u001b[0m\u001b[1;33m[\u001b[0m\u001b[0mkey\u001b[0m\u001b[1;33m]\u001b[0m\u001b[1;33m+\u001b[0m\u001b[1;34m'.htm'\u001b[0m\u001b[1;33m,\u001b[0m\u001b[0myrd\u001b[0m\u001b[1;33m)\u001b[0m\u001b[1;33m\u001b[0m\u001b[0m\n\u001b[0m\u001b[0;32m     12\u001b[0m \u001b[1;33m\u001b[0m\u001b[0m\n\u001b[0;32m     13\u001b[0m \u001b[1;33m\u001b[0m\u001b[0m\n",
      "\u001b[1;32m<ipython-input-6-efc0c62730e9>\u001b[0m in \u001b[0;36mscrapeNcollateDry\u001b[1;34m(fileName, link, yr)\u001b[0m\n\u001b[0;32m     54\u001b[0m     \u001b[0mapr\u001b[0m\u001b[1;33m=\u001b[0m\u001b[1;33m[\u001b[0m\u001b[1;33m]\u001b[0m\u001b[1;33m\u001b[0m\u001b[0m\n\u001b[0;32m     55\u001b[0m     \u001b[0mmay\u001b[0m\u001b[1;33m=\u001b[0m\u001b[1;33m[\u001b[0m\u001b[1;33m]\u001b[0m\u001b[1;33m\u001b[0m\u001b[0m\n\u001b[1;32m---> 56\u001b[1;33m     \u001b[1;32mfor\u001b[0m \u001b[0mrow\u001b[0m \u001b[1;32min\u001b[0m \u001b[0mraw\u001b[0m\u001b[1;33m[\u001b[0m\u001b[1;36m0\u001b[0m\u001b[1;33m]\u001b[0m\u001b[1;33m.\u001b[0m\u001b[0mfind_all\u001b[0m\u001b[1;33m(\u001b[0m\u001b[1;34m'tr'\u001b[0m\u001b[1;33m)\u001b[0m\u001b[1;33m[\u001b[0m\u001b[1;36m2\u001b[0m\u001b[1;33m:\u001b[0m\u001b[1;33m]\u001b[0m\u001b[1;33m:\u001b[0m\u001b[1;33m\u001b[0m\u001b[0m\n\u001b[0m\u001b[0;32m     57\u001b[0m         \u001b[0mcol\u001b[0m \u001b[1;33m=\u001b[0m \u001b[0mrow\u001b[0m\u001b[1;33m.\u001b[0m\u001b[0mfind_all\u001b[0m\u001b[1;33m(\u001b[0m\u001b[1;34m'td'\u001b[0m\u001b[1;33m)\u001b[0m\u001b[1;33m\u001b[0m\u001b[0m\n\u001b[0;32m     58\u001b[0m         \u001b[0mday\u001b[0m \u001b[1;33m=\u001b[0m \u001b[0mfloat\u001b[0m\u001b[1;33m(\u001b[0m\u001b[0mcol\u001b[0m\u001b[1;33m[\u001b[0m\u001b[1;36m0\u001b[0m\u001b[1;33m]\u001b[0m\u001b[1;33m.\u001b[0m\u001b[0mstring\u001b[0m\u001b[1;33m.\u001b[0m\u001b[0mstrip\u001b[0m\u001b[1;33m(\u001b[0m\u001b[1;33m)\u001b[0m\u001b[1;33m)\u001b[0m\u001b[1;33m\u001b[0m\u001b[0m\n",
      "\u001b[1;31mIndexError\u001b[0m: list index out of range"
     ]
    }
   ],
   "source": [
    "sites={'chiangsaen':'csa','luangprabang':'lua','chiangkhan':'ckh','vientiane':'vie',\\\n",
    "       'nongkhai':'non','paksane':'pak','nakhonphanom':'nak','mukdahan':'muk',\\\n",
    "       'pakse':'pks','stungtreng':'str','kratie':'kra',\\\n",
    "       'kompongcham':'kom','phnompenhbassac':'ppb',\\\n",
    "       'kohkhel':'koh','neakluong':'nea','prekkdam':'pre','tanchau':'tch','chaudoc':'cdo'}\n",
    "#,'phnompenhport':'ppp','thakhek':'tha','savannakhet':'sav', only in wet season, not in dry.\n",
    "year=np.arange(2008,2017).astype(str)\n",
    "yeardry=['2013_2014','2014_2015','2015_2016','2016_2017']\n",
    "\n",
    "for yr in year:\n",
    "    for key in sites:\n",
    "        scrapeNcollateWet(key,'http://ffw.mrcmekong.org/historical_data/'+yr+'/stations_historical/historical_'+sites[key]+'.htm',yr)\n",
    "for yrd in yeardry:\n",
    "    for key in sites:\n",
    "        scrapeNcollateDry(key,'http://ffw.mrcmekong.org/historical_data_dry/'+yrd+'/stations_dry/historical_dry_'+sites[key]+'.htm',yrd)\n",
    "\n",
    "\n"
   ]
  },
  {
   "cell_type": "code",
   "execution_count": 104,
   "metadata": {
    "collapsed": false
   },
   "outputs": [
    {
     "name": "stdout",
     "output_type": "stream",
     "text": [
      "False\n",
      "-1\n",
      "False\n",
      "True\n"
     ]
    }
   ],
   "source": [
    "yr=\"2015_2016\"\n",
    "day=29\n",
    "print(bool(int(yr[-4:])%4))\n",
    "print(~bool(int(yr[-4:])%4))\n",
    "print(day<=28)\n",
    "\n",
    "print(day==29 and not bool(int(yr[-4:])%4))"
   ]
  }
 ],
 "metadata": {
  "anaconda-cloud": {},
  "kernelspec": {
   "display_name": "Python [default]",
   "language": "python",
   "name": "python3"
  },
  "language_info": {
   "codemirror_mode": {
    "name": "ipython",
    "version": 3
   },
   "file_extension": ".py",
   "mimetype": "text/x-python",
   "name": "python",
   "nbconvert_exporter": "python",
   "pygments_lexer": "ipython3",
   "version": "3.5.1"
  }
 },
 "nbformat": 4,
 "nbformat_minor": 1
}
